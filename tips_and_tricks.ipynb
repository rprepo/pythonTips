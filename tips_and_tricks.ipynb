{
 "cells": [
  {
   "cell_type": "markdown",
   "metadata": {},
   "source": [
    "# 1. if and else in a line\n"
   ]
  },
  {
   "cell_type": "code",
   "execution_count": 7,
   "metadata": {
    "collapsed": true
   },
   "outputs": [
    {
     "data": {
      "text/plain": [
       "0"
      ]
     },
     "execution_count": 7,
     "metadata": {},
     "output_type": "execute_result"
    }
   ],
   "source": [
    "condition = False\n",
    "x  = 1 if condition else 0\n",
    "x"
   ]
  },
  {
   "cell_type": "markdown",
   "metadata": {},
   "source": [
    "# 2. reading number or formating"
   ]
  },
  {
   "cell_type": "code",
   "execution_count": 34,
   "metadata": {},
   "outputs": [
    {
     "name": "stdout",
     "output_type": "stream",
     "text": [
      "10,000,000,000\n"
     ]
    }
   ],
   "source": [
    "num = 10000000000\n",
    "print(f'{num:,}')"
   ]
  },
  {
   "cell_type": "markdown",
   "metadata": {},
   "source": [
    "# 3.Enumerate "
   ]
  },
  {
   "cell_type": "code",
   "execution_count": 35,
   "metadata": {},
   "outputs": [
    {
     "name": "stdout",
     "output_type": "stream",
     "text": [
      "0 ibm\n",
      "1 simp\n",
      "2 manipal\n",
      "3 yoho\n"
     ]
    }
   ],
   "source": [
    "names =['ibm','simp','manipal','yoho']\n",
    "for index,name in enumerate(names): \n",
    "    print(index,name)\n",
    "\n",
    "# index is always first one in for loop"
   ]
  },
  {
   "cell_type": "markdown",
   "metadata": {},
   "source": [
    "# 4.zip"
   ]
  },
  {
   "cell_type": "code",
   "execution_count": 36,
   "metadata": {},
   "outputs": [
    {
     "name": "stdout",
     "output_type": "stream",
     "text": [
      "ibm -> 2\n",
      "simp -> 3.4\n",
      "manipal -> 4.5\n",
      "yoho -> 6.7\n",
      "('ibm', '2', '2')\n",
      "('simp', '3.4', '3')\n",
      "('manipal', '4.5', '1')\n",
      "('yoho', '6.7', '1')\n"
     ]
    }
   ],
   "source": [
    "names =['ibm','simp','manipal','yoho']\n",
    "packs =['2','3.4','4.5','6.7']\n",
    "\n",
    "for name,pack in zip(names,packs):\n",
    "    print(name,'->',pack)\n",
    "\n",
    "    \n",
    "years =['2','3','1','1']\n",
    "for value in zip(names,packs,years):\n",
    "    print(value)"
   ]
  },
  {
   "cell_type": "markdown",
   "metadata": {},
   "source": [
    " # unpacking"
   ]
  },
  {
   "cell_type": "code",
   "execution_count": 33,
   "metadata": {},
   "outputs": [
    {
     "name": "stdout",
     "output_type": "stream",
     "text": [
      "[3, 4, 5]\n",
      "[3, 4, 5, 7, 8] 9\n",
      "[3, 4, 5, 7, 8]\n"
     ]
    }
   ],
   "source": [
    "a , b, *c = (1,2,3,4,5)\n",
    "print(c)\n",
    "\n",
    "a , b, *c,d = (1,2,3,4,5,7,8,9)\n",
    "print(c,d)\n",
    "\n",
    "a , b, *_,d = (1,2,3,4,5,7,8,9)\n",
    "print(_)\n",
    "\n",
    "# to avoid \"too many values to unpack\""
   ]
  },
  {
   "cell_type": "markdown",
   "metadata": {},
   "source": [
    "# String reversal and string reading"
   ]
  },
  {
   "cell_type": "code",
   "execution_count": 69,
   "metadata": {},
   "outputs": [
    {
     "name": "stdout",
     "output_type": "stream",
     "text": [
      "reverse is gnirtSroftseT\n",
      "Test\n",
      "Tftg\n"
     ]
    }
   ],
   "source": [
    "\n",
    "a =\"TestforString\"\n",
    "\n",
    "print('reverse is',a[::-1]) \n",
    "print(a[0:4])\n",
    "print(a[0:16:4])\n",
    "\n",
    "#strat:end(excluded): skip in evry read"
   ]
  },
  {
   "cell_type": "markdown",
   "metadata": {},
   "source": [
    "# converting list to string"
   ]
  },
  {
   "cell_type": "code",
   "execution_count": 76,
   "metadata": {},
   "outputs": [
    {
     "name": "stdout",
     "output_type": "stream",
     "text": [
      "tipsForpython\n"
     ]
    }
   ],
   "source": [
    "a = [\"tips\", \"For\", \"python\"] \n",
    "print(''.join(a))"
   ]
  },
  {
   "cell_type": "code",
   "execution_count": 83,
   "metadata": {},
   "outputs": [
    {
     "name": "stdout",
     "output_type": "stream",
     "text": [
      "None\n",
      "2\n"
     ]
    }
   ],
   "source": [
    "def xswitch(x): \n",
    "\treturn xswitch._system_dict.get(x, None) \n",
    "\n",
    "xswitch._system_dict = {'files': 10, 'folders': 5, 'devices': 2}\n",
    "\n",
    "print(xswitch('default'))\n",
    "print(xswitch('devices'))\n"
   ]
  },
  {
   "cell_type": "markdown",
   "metadata": {},
   "source": [
    "# list tricks"
   ]
  },
  {
   "cell_type": "code",
   "execution_count": 100,
   "metadata": {},
   "outputs": [
    {
     "name": "stdout",
     "output_type": "stream",
     "text": [
      "['2014', '2015', '2016', '2017', '2018', '2019']\n",
      "['2014', '2015', '2016', '2017', '2018', '2019']\n",
      "['2014', '2015', '2016', '2017', 0, 1, 2]\n"
     ]
    }
   ],
   "source": [
    "# adding two lists\n",
    "years =['2014','2015','2016','2017']\n",
    "new_years=['2018','2019']\n",
    "years.extend(new_years)\n",
    "print(years)\n",
    "\n",
    "\n",
    "years =['2014','2015','2016','2017']\n",
    "new_years=('2018','2019')\n",
    "years.extend(new_years)\n",
    "print(years)\n",
    "\n",
    "years =['2014','2015','2016','2017']\n",
    "years.extend(range(3))\n",
    "print(years)\n",
    "\n",
    "# new_years can be any enumerable"
   ]
  }
 ],
 "metadata": {
  "kernelspec": {
   "display_name": "Python 3",
   "language": "python",
   "name": "python3"
  },
  "language_info": {
   "codemirror_mode": {
    "name": "ipython",
    "version": 3
   },
   "file_extension": ".py",
   "mimetype": "text/x-python",
   "name": "python",
   "nbconvert_exporter": "python",
   "pygments_lexer": "ipython3",
   "version": "3.7.3"
  }
 },
 "nbformat": 4,
 "nbformat_minor": 2
}
